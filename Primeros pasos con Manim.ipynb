{
 "cells": [
  {
   "attachments": {},
   "cell_type": "markdown",
   "id": "substantial-impact",
   "metadata": {},
   "source": [
    "# ¡Bienvenido a Manim!"
   ]
  },
  {
   "attachments": {},
   "cell_type": "markdown",
   "id": "first-armenia",
   "metadata": {},
   "source": [
    "Este es un entorno de prueba temporal en el que puede jugar con Manim sin necesidad de instalarlo localmente. ¡Algunos conocimientos básicos de Python son útiles! Sin embargo, tenga en cuenta que este es un entorno temporal: sus cambios no se guardarán y no se podrán compartir con otros. Para guardar su trabajo, deberá descargar el archivo del cuaderno (\"Archivo > Descargar como > Cuaderno (.ipynb)\"). ¡Disfrútelo!\n",
    "\n",
    "Tomado de (https://mybinder.org/v2/gh/ManimCommunity/jupyter_examples/HEAD?filepath=basic_example_scenes.ipynb)\n",
    "\n",
    "https://mybinder.org/v2/gh/ManimCommunity/jupyter_examples/HEAD?filepath=First%20Steps%20with%20Manim.ipynb\n",
    "\n",
    "> *Useful resources:* [Documentation](https://docs.manim.community), [Discord](https://discord.gg/mMRrZQW), [Reddit](https://www.reddit.com/r/manim/)"
   ]
  },
  {
   "attachments": {},
   "cell_type": "markdown",
   "id": "honest-cruise",
   "metadata": {},
   "source": [
    "## Instalación"
   ]
  },
  {
   "attachments": {},
   "cell_type": "markdown",
   "id": "governing-increase",
   "metadata": {},
   "source": [
    "Comenzamos nuestro breve recorrido importando todo desde la biblioteca. Ejecute la siguiente celda de código para hacerlo (enfoque la celda y presione el botón Ejecutar arriba, o presione Shift+ Enter; puede encontrar más información sobre cómo navegar y trabajar con cuadernos Jupyter en el menú Ayuda en la parte superior de esta página).\n",
    "\n",
    "La segunda línea controla el ancho máximo utilizado para mostrar videos en este cuaderno y la tercera línea controla la verbosidad de la salida del registro. Siéntase libre de adaptar ambas configuraciones a su gusto."
   ]
  },
  {
   "cell_type": "code",
   "execution_count": 1,
   "id": "wound-foundation",
   "metadata": {},
   "outputs": [
    {
     "data": {
      "text/html": [
       "<pre style=\"white-space:pre;overflow-x:auto;line-height:normal;font-family:Menlo,'DejaVu Sans Mono',consolas,'Courier New',monospace\">Manim Community <span style=\"color: #008000\">v0.17.2</span>\n",
       "\n",
       "</pre>\n"
      ],
      "text/plain": [
       "<rich.jupyter.JupyterRenderable at 0x1b2a5a61950>"
      ]
     },
     "metadata": {},
     "output_type": "display_data"
    }
   ],
   "source": [
    "from manim import *\n",
    "\n",
    "config.media_width = \"75%\"\n",
    "config.verbosity = \"WARNING\""
   ]
  },
  {
   "attachments": {},
   "cell_type": "markdown",
   "id": "respected-copying",
   "metadata": {},
   "source": [
    "Si ha ejecutado la celda con éxito, debería haber aparecido debajo de ella un mensaje que imprima la versión instalada de la biblioteca."
   ]
  },
  {
   "attachments": {},
   "cell_type": "markdown",
   "id": "antique-knock",
   "metadata": {},
   "source": [
    "## Tu primera Escena"
   ]
  },
  {
   "attachments": {},
   "cell_type": "markdown",
   "id": "drawn-dylan",
   "metadata": {},
   "source": [
    "Manim genera videos renderizando *Escenas*. Estas son clases especiales que tienen un método `construct` que describe las animaciones que deben renderizarse. (Por el bien de este tutorial, no importa si no está tan familiarizado con Python o la terminología de programación orientada a objetos como *clase* o *método*, pero debería considerar trabajar con un tutorial de Python si quiere seguir aprendiendo Manim).\n",
    "\n",
    "Basta de palabrerías, veamos un ejemplo. Ejecute la celda a continuación para renderizar y mostrar un video."
   ]
  },
  {
   "cell_type": "code",
   "execution_count": 2,
   "id": "complicated-retirement",
   "metadata": {},
   "outputs": [
    {
     "name": "stderr",
     "output_type": "stream",
     "text": [
      "                                                                     \r"
     ]
    },
    {
     "data": {
      "text/html": [
       "<video src=\"media\\jupyter\\CircleToSquare@2023-01-18@08-32-01.mp4\" controls autoplay loop style=\"max-width: 75%;\"  >\n",
       "      Your browser does not support the <code>video</code> element.\n",
       "    </video>"
      ],
      "text/plain": [
       "<IPython.core.display.Video object>"
      ]
     },
     "metadata": {},
     "output_type": "display_data"
    }
   ],
   "source": [
    "%%manim -qm CircleToSquare\n",
    "\n",
    "class CircleToSquare(Scene):\n",
    "    def construct(self):\n",
    "        blue_circle = Circle(color=BLUE, fill_opacity=0.5)\n",
    "        green_square = Square(color=GREEN, fill_opacity=0.8)\n",
    "        self.play(Create(blue_circle))\n",
    "        self.wait()\n",
    "        \n",
    "        self.play(Transform(blue_circle, green_square))\n",
    "        self.wait()"
   ]
  },
  {
   "attachments": {},
   "cell_type": "markdown",
   "id": "tutorial-kelly",
   "metadata": {},
   "source": [
    "Si bien algunas partes de este ejemplo pueden parecer que se explican por sí mismas, lo revisaremos paso a paso. Primero,\n",
    "```\n",
    "%%manim -qm CircleToSquare\n",
    "```\n",
    "\n",
    "es un *comando especial* , solo funciona dentro de los cuadernos de Jupyter. Es muy similar a cómo llamarías a `manim` desde una terminal: la bandera `-qm` controla la calidad de renderizado, es una abreviatura de `--quality=m` calidad de renderizado medio. Esto significa que el video se renderizará en 720p con 30 fps. (¡Intente cambiarlo a `-qh` o `-ql` para alta y baja calidad, respectivamente!)\n",
    "\n",
    "Finalmente, `CircleToSquare` es el nombre de la clase de escena que desea representar en esta celda en particular, lo que ya nos lleva a las siguientes líneas:\n",
    "```py\n",
    "class CircleToSquare(Scene):\n",
    "    def construct(self):\n",
    "        [...]\n",
    "```\n",
    "Esto define una escena de Manim llamada `CircleToSquare`, y define un método `construct` personalizado que actúa como *modelo* para el video. El contenido del método `construct` describe qué se representa exactamente en el video.\n",
    "\n",
    "```py\n",
    "blue_circle = Circle(color=BLUE, fill_opacity=0.5)\n",
    "green_square = Square(color=GREEN, fill_opacity=0.8)\n",
    "```\n",
    "\n",
    "Las dos primeras líneas crean un objeto `Circle` y un `Square` con los colores especificados y rellenan las opacidades. Sin embargo, ¡estos no se han agregado a la escena todavía! Para hacer eso, tienes que usar `self.add`, es un método de la clase `Scene` de Manim.\n",
    "En el contexto de una clase que extienda a `Scene`, `self.add()` recibe como parámetro un objeto gráfico que se desea añadir a la escena. Este objeto debe ser una instancia de alguna clase de Manim que herede de `Mobject`, como por ejemplo `Circle` o `Rectangle`.\n",
    "...\n",
    "\n",
    "```py\n",
    "self.play(Create(blue_circle))\n",
    "self.wait()\n",
    "```\n",
    "... Deciamos que para agregar un objeto a la escena, debes utilizar el método `self.add` o reproducir una animación que agregue un objeto Manim (*Mobject*) a la escena. Dentro del método, `self` las referencias a la escena actual `self.play(my_animation)` se pueden leer como *\"Esta escena debería reproducir mi animación\"*.\n",
    "\n",
    "`Create` es una animación de este tipo, pero hay muchas otras (por ejemplo `FadeIn`, o `DrawBorderThenFill` – intenta probarlas en el código de arriba!). La llamada `self.wait()` hace exactamente lo que cabría esperar: pausa el video por un tiempo (por defecto: un segundo).  Cámbialo a `self.wait(2)` para una pausa de dos segundos, y así sucesivamente.\n",
    "\n",
    "Las dos líneas finales,\n",
    "```\n",
    "self.play(Transform(blue_circle, green_square))\n",
    "self.wait()\n",
    "```\n",
    "son responsables de la transformación real del círculo azul al cuadrado verde (más una pausa de un segundo después)."
   ]
  },
  {
   "attachments": {},
   "cell_type": "markdown",
   "id": "polyphonic-sucking",
   "metadata": {},
   "source": [
    "## Posicionar Mobjects y moverlos en el contexto"
   ]
  },
  {
   "attachments": {},
   "cell_type": "markdown",
   "id": "pursuant-bubble",
   "metadata": {},
   "source": [
    "Nuevo problema: Queremos crear una escena en la que se crea un círculo mientras que al mismo tiempo se escribe un texto debajo. Podemos reutilizar nuestro círculo azul de arriba y luego agregar un código nuevo:"
   ]
  },
  {
   "cell_type": "code",
   "execution_count": 4,
   "id": "dedicated-wiring",
   "metadata": {},
   "outputs": [
    {
     "name": "stderr",
     "output_type": "stream",
     "text": [
      "                                                                                  \r"
     ]
    },
    {
     "data": {
      "text/html": [
       "<video src=\"media\\jupyter\\HelloCircle@2023-01-18@08-40-28.mp4\" controls autoplay loop style=\"max-width: 75%;\"  >\n",
       "      Your browser does not support the <code>video</code> element.\n",
       "    </video>"
      ],
      "text/plain": [
       "<IPython.core.display.Video object>"
      ]
     },
     "metadata": {},
     "output_type": "display_data"
    }
   ],
   "source": [
    "%%manim -qm HelloCircle\n",
    "\n",
    "class HelloCircle(Scene):\n",
    "    def construct(self):\n",
    "        # blue_circle = Circle(color=BLUE, fill_opacity=0.5)\n",
    "        # También podemos crear un círculo \"simple\" y agregar los atributos deseados a través de métodos establecidos:\n",
    "        circle = Circle()\n",
    "        blue_circle = circle.set_color(BLUE).set_opacity(0.5)\n",
    "        \n",
    "        label = Text(\"Un círculo 'salvaje' aparece!\")\n",
    "        label.next_to(blue_circle, DOWN, buff=0.5)\n",
    "        \n",
    "        self.play(Create(blue_circle), Write(label))\n",
    "        self.wait()"
   ]
  },
  {
   "attachments": {},
   "cell_type": "markdown",
   "id": "quick-temperature",
   "metadata": {},
   "source": [
    "Aparentemente, el texto se puede representar usando un Mobject `Text`, y la línea logra la posición deseada\n",
    "```py\n",
    "label.next_to(blue_circle, DOWN, buff=0.5)\n",
    "```\n",
    "Los Mobjects tienen algunos métodos para posicionar, `next_to` es uno de ellos (`shift`, `to_edge`, `to_corner`, `move_to` son algunos otros; échales un vistazo en nuestra [documentación](https://docs .manim.community/) utilizando la barra de búsqueda de la izquierda). Para `next_to`, el primer argumento que se pasa (`blue_circle`) describe junto a qué objeto debe colocarse nuestra `etiqueta`. El segundo argumento, 'DOWN', describe la dirección (¡intente cambiarlo a 'LEFT', 'UP' o 'RIGHT' en su lugar!). Y finalmente, `buff=0.5` controla la \"distancia de búfer\" entre el `blue_circle` y `label`, aumentando este valor empujará `label` aún más abajo.\n",
    "\n",
    "Pero también tenga en cuenta que la llamada `self.play` ha cambiado: es posible pasar varios argumentos de animación a `self.play`, luego se reproducirán simultáneamente. Si desea reproducirlos uno tras otro, reemplace la llamada `self.play` con las líneas\n",
    "```py\n",
    "self.play(Create(blue_circle))\n",
    "self.play(Write(label))\n",
    "```\n",
    "y mira lo que pasa.\n",
    "\n",
    "Por cierto, Mobjects, naturalmente, también tiene métodos no relacionados con el posicionamiento: por ejemplo, para obtener nuestro círculo azul, también podríamos crear uno predeterminado y luego establecer el color y la opacidad:\n",
    "```py\n",
    "circle = Circle()\n",
    "blue_transparent_circle = circle.set_color(BLUE)\n",
    "blue_circle = blue_transparent_circle.set_opacity(0.5)\n",
    "```\n",
    "Una versión más corta de esto sería\n",
    "```py\n",
    "blue_circle = Circle().set_color(BLUE).set_opacity(0.5)\n",
    "```\n",
    "Por ahora, nos limitaremos a establecer los atributos directamente en la llamada a `Circle`."
   ]
  },
  {
   "attachments": {},
   "cell_type": "markdown",
   "id": "composed-solomon",
   "metadata": {},
   "source": [
    "## Animación de llamadas a métodos: la sintaxis `.animate`"
   ]
  },
  {
   "attachments": {},
   "cell_type": "markdown",
   "id": "opponent-institution",
   "metadata": {},
   "source": [
    "En el último ejemplo hemos encontrado el método `.next_to`, uno de los muchos (!) métodos que modifican Mobjects de una forma u otra. Pero, ¿qué pasaría si quisiéramos animar cómo cambia un Mobject cuando se aplica uno de estos métodos, por ejemplo, cuando cambiamos algo `.shift` , o rotamos `.rotate` un Mobject, o quizás lo 'escalamos'? La sintaxis `.animate` es la respuesta a esta pregunta, veamos un ejemplo."
   ]
  },
  {
   "cell_type": "code",
   "execution_count": 5,
   "id": "formal-bargain",
   "metadata": {},
   "outputs": [
    {
     "name": "stderr",
     "output_type": "stream",
     "text": [
      "                                                                                                                   \r"
     ]
    },
    {
     "data": {
      "text/html": [
       "<video src=\"media\\jupyter\\CircleAnnouncement@2023-01-18@11-59-28.mp4\" controls autoplay loop style=\"max-width: 75%;\"  >\n",
       "      Your browser does not support the <code>video</code> element.\n",
       "    </video>"
      ],
      "text/plain": [
       "<IPython.core.display.Video object>"
      ]
     },
     "metadata": {},
     "output_type": "display_data"
    }
   ],
   "source": [
    "%%manim -qm CircleAnnouncement\n",
    "\n",
    "class CircleAnnouncement(Scene):\n",
    "    def construct(self):\n",
    "        blue_circle = Circle(color=BLUE, fill_opacity=0.5)\n",
    "        announcement = Text(\"Vamos a dibujar un círculo.\")\n",
    "        \n",
    "        self.play(Write(announcement))\n",
    "        self.wait()\n",
    "        \n",
    "        self.play(announcement.animate.next_to(blue_circle, UP, buff=0.5))\n",
    "        self.play(Create(blue_circle))"
   ]
  },
  {
   "attachments": {},
   "cell_type": "markdown",
   "id": "attractive-citizenship",
   "metadata": {},
   "source": [
    "Donde normalmente usaríamos `announcement.next_to(blue_circle, UP, buff=0.5)` para posicionar el texto sin animación, podemos anteponer `.animate` a la llamada al método para convertir la aplicación del método en una animación que luego se puede reproducir usando `self.play`. Esto funciona con todos los métodos que modifican un Mobject de alguna manera:"
   ]
  },
  {
   "cell_type": "code",
   "execution_count": 6,
   "id": "primary-postage",
   "metadata": {},
   "outputs": [
    {
     "name": "stderr",
     "output_type": "stream",
     "text": [
      "                                                                                         \r"
     ]
    },
    {
     "data": {
      "text/html": [
       "<video src=\"media\\jupyter\\AnimateSyntax@2023-01-18@12-01-25.mp4\" controls autoplay loop style=\"max-width: 75%;\"  >\n",
       "      Your browser does not support the <code>video</code> element.\n",
       "    </video>"
      ],
      "text/plain": [
       "<IPython.core.display.Video object>"
      ]
     },
     "metadata": {},
     "output_type": "display_data"
    }
   ],
   "source": [
    "%%manim -qm AnimateSyntax\n",
    "\n",
    "class AnimateSyntax(Scene):\n",
    "    def construct(self):\n",
    "        triangle = Triangle(color=RED, fill_opacity=1)\n",
    "        self.play(DrawBorderThenFill(triangle))\n",
    "        self.play(triangle.animate.shift(LEFT))\n",
    "        self.play(triangle.animate.shift(RIGHT).scale(2))\n",
    "        self.play(triangle.animate.rotate(PI/3))"
   ]
  },
  {
   "attachments": {},
   "cell_type": "markdown",
   "id": "prompt-reaction",
   "metadata": {},
   "source": [
    "En la primera llamada de juego se crea el triángulo, en la segunda se desplaza hacia la izquierda, luego en la tercera se vuelve a desplazar hacia la derecha y simultáneamente se escala por un factor de 2, y finalmente en la cuarta llamada se rota por un ángulo de $\\pi/3$. Ejecute la celda de arriba nuevamente después de modificar algunos de los valores, o probar otros métodos como, por ejemplo, `set_color`)."
   ]
  },
  {
   "attachments": {},
   "cell_type": "markdown",
   "id": "expired-stomach",
   "metadata": {},
   "source": [
    "Al mirar de cerca la última animación de la escena anterior, la rotación, puede notar que esto no es *en realidad* una rotación. El triángulo se transforma en una versión rotada de sí mismo, pero durante la animación los vértices del triángulo no se mueven a lo largo de un arco (como lo harían cuando el triángulo se rotara alrededor de su centro), sino a lo largo de líneas rectas, lo que da la animación la impresión de que el triángulo primero se encoge un poco y luego vuelve a crecer.\n",
    "\n",
    "Esto en realidad **no es un error**, sino una consecuencia de cómo funciona la sintaxis `.animate`: la animación se construye especificando el estado inicial (el Mobject `triangle` en el ejemplo anterior) y el estado final (el mobject rotado, `triangle.rotate(PI/3)`).Luego, Manim intenta interpolar entre estos dos, pero en realidad no sabe que le gustaría rotar suavemente el triángulo. El siguiente ejemplo lo ilustra claramente:"
   ]
  },
  {
   "cell_type": "code",
   "execution_count": 7,
   "id": "recent-department",
   "metadata": {},
   "outputs": [
    {
     "name": "stderr",
     "output_type": "stream",
     "text": [
      "                                                                                  \r"
     ]
    },
    {
     "data": {
      "text/html": [
       "<video src=\"media\\jupyter\\DifferentRotations@2023-01-18@12-05-58.mp4\" controls autoplay loop style=\"max-width: 75%;\"  >\n",
       "      Your browser does not support the <code>video</code> element.\n",
       "    </video>"
      ],
      "text/plain": [
       "<IPython.core.display.Video object>"
      ]
     },
     "metadata": {},
     "output_type": "display_data"
    }
   ],
   "source": [
    "%%manim -qm DifferentRotations\n",
    "\n",
    "class DifferentRotations(Scene):\n",
    "    def construct(self):\n",
    "        left_square = Square(color=BLUE, fill_opacity=0.7).shift(2*LEFT)\n",
    "        right_square = Square(color=GREEN, fill_opacity=0.7).shift(2*RIGHT)\n",
    "        self.play(left_square.animate.rotate(PI), Rotate(right_square, angle=PI), run_time=2)\n",
    "        self.wait()"
   ]
  },
  {
   "attachments": {},
   "cell_type": "markdown",
   "id": "urban-liver",
   "metadata": {},
   "source": [
    "## Composición tipográfica Matemáticas"
   ]
  },
  {
   "attachments": {},
   "cell_type": "markdown",
   "id": "divine-evanescence",
   "metadata": {},
   "source": [
    "Manim es compatible con la renderización y animación de LaTeX, el lenguaje matemático de marcado que a menudo se escribe. Obtenga más información al respecto [en este tutorial de 30 minutos] (https://www.overleaf.com/learn/latex/Learn_LaTeX_in_30_minutes).\n",
    "\n",
    "Aquí hay un ejemplo simple para trabajar con LaTeX en Manim:"
   ]
  },
  {
   "cell_type": "code",
   "execution_count": 8,
   "id": "bulgarian-violin",
   "metadata": {},
   "outputs": [
    {
     "name": "stderr",
     "output_type": "stream",
     "text": [
      "                                                                                                                                             \r"
     ]
    },
    {
     "data": {
      "text/html": [
       "<video src=\"media\\jupyter\\CauchyIntegralFormula@2023-01-18@12-07-52.mp4\" controls autoplay loop style=\"max-width: 75%;\"  >\n",
       "      Your browser does not support the <code>video</code> element.\n",
       "    </video>"
      ],
      "text/plain": [
       "<IPython.core.display.Video object>"
      ]
     },
     "metadata": {},
     "output_type": "display_data"
    }
   ],
   "source": [
    "%%manim -qm CauchyIntegralFormula\n",
    "\n",
    "class CauchyIntegralFormula(Scene):\n",
    "    def construct(self):\n",
    "        formula = MathTex(r\"[z^n]f(z) = \\frac{1}{2\\pi i}\\oint_{\\gamma} \\frac{f(z)}{z^{n+1}}~dz\")\n",
    "        self.play(Write(formula), run_time=3)\n",
    "        self.wait()"
   ]
  },
  {
   "attachments": {},
   "cell_type": "markdown",
   "id": "potential-crowd",
   "metadata": {},
   "source": [
    "Como demuestra este ejemplo, `MathTex` permite representar cadenas LaTeX simples (modo matemático). Si desea renderizar LaTex en \"modo normal\", use `Tex` en su lugar.\n",
    "\n",
    "Por supuesto, Manim también puede ayudarlo a visualizar transformaciones de fórmulas tipográficas. Considere el siguiente ejemplo:"
   ]
  },
  {
   "cell_type": "code",
   "execution_count": 9,
   "id": "proof-multiple",
   "metadata": {},
   "outputs": [
    {
     "name": "stderr",
     "output_type": "stream",
     "text": [
      "                                                                                             \r"
     ]
    },
    {
     "data": {
      "text/html": [
       "<video src=\"media\\jupyter\\TransformEquation@2023-01-18@12-09-23.mp4\" controls autoplay loop style=\"max-width: 75%;\"  >\n",
       "      Your browser does not support the <code>video</code> element.\n",
       "    </video>"
      ],
      "text/plain": [
       "<IPython.core.display.Video object>"
      ]
     },
     "metadata": {},
     "output_type": "display_data"
    }
   ],
   "source": [
    "%%manim -qm TransformEquation\n",
    "\n",
    "class TransformEquation(Scene):\n",
    "    def construct(self):\n",
    "        eq1 = MathTex(\"42 {{ a^2 }} + {{ b^2 }} = {{ c^2 }}\")\n",
    "        eq2 = MathTex(\"42 {{ a^2 }} = {{ c^2 }} - {{ b^2 }}\")\n",
    "        eq3 = MathTex(r\"a^2 = \\frac{c^2 - b^2}{42}\")\n",
    "        self.add(eq1)\n",
    "        self.wait()\n",
    "        self.play(TransformMatchingTex(eq1, eq2))\n",
    "        self.wait()\n",
    "        self.play(TransformMatchingShapes(eq2, eq3))\n",
    "        self.wait()"
   ]
  },
  {
   "attachments": {},
   "cell_type": "markdown",
   "id": "fuzzy-output",
   "metadata": {},
   "source": [
    "En este último ejemplo, `eq1` y `eq2` tienen algunas posiciones de llaves dobles donde, convencionalmente, no habría ninguna en LaTeX simple. Esta es una notación Manim especial que agrupa los Mobjects `Tex` resultantes `eq1` y `eq2` de una manera particular.\n",
    "\n",
    "Esta notación especial es útil cuando se usa la animación `TransformMatchingTex`: transformará partes con cadenas TeX iguales (por ejemplo, `a^2` a `a^2`) entre sí, y sin la notación especial, la ecuación es se considera una cadena TeX larga. En comparación, `TransformMatchingShapes` es menos inteligente: simplemente trata de transformar formas que \"se ven iguales\" entre sí; sin embargo, a menudo sigue siendo muy útil."
   ]
  },
  {
   "attachments": {},
   "cell_type": "markdown",
   "id": "monetary-sleep",
   "metadata": {},
   "source": [
    "Si ha llegado hasta aquí, debería tener una primera impresión del uso básico de la biblioteca. Puede encontrar algunos ejemplos más avanzados que ilustran algunos conceptos más especializados en la biblioteca a continuación. ¡Adelante, intenta jugar y modificarlos como lo hiciste con los anteriores! Explore nuestra [documentación](https://docs.manim.community) para hacerse una idea de las cosas que ya están implementadas y mire el código fuente en caso de que desee crear algunos objetos más complejos usted mismo.\n",
    "\n",
    "La [comunidad](https://www.manim.community/discord/) también está feliz de responder preguntas, ¡y esperamos que compartas tus increíbles proyectos con nosotros! **¡Feliz *animación*!**"
   ]
  },
  {
   "attachments": {},
   "cell_type": "markdown",
   "id": "attractive-fight",
   "metadata": {},
   "source": [
    "## Algunos ejemplos más especializados"
   ]
  },
  {
   "attachments": {},
   "cell_type": "markdown",
   "id": "editorial-growth",
   "metadata": {},
   "source": [
    "Antes de profundizar en estos ejemplos: tenga en cuenta que ilustran conceptos especializados, están destinados a darle una idea de cómo se configuran y codifican escenas más complejas. Los ejemplos no vienen con una explicación adicional, **no están pensados ​​como recursos de aprendizaje (de nivel de entrada)**."
   ]
  },
  {
   "cell_type": "code",
   "execution_count": 10,
   "id": "unexpected-berlin",
   "metadata": {},
   "outputs": [
    {
     "name": "stderr",
     "output_type": "stream",
     "text": [
      "                                                                                                                                                          \r"
     ]
    },
    {
     "data": {
      "text/html": [
       "<video src=\"media\\jupyter\\FormulaEmphasis@2023-01-18@12-12-52.mp4\" controls autoplay loop style=\"max-width: 75%;\"  >\n",
       "      Your browser does not support the <code>video</code> element.\n",
       "    </video>"
      ],
      "text/plain": [
       "<IPython.core.display.Video object>"
      ]
     },
     "metadata": {},
     "output_type": "display_data"
    }
   ],
   "source": [
    "%%manim -qm FormulaEmphasis\n",
    "\n",
    "class FormulaEmphasis(Scene):\n",
    "    def construct(self):\n",
    "        product_formula = MathTex(\n",
    "            r\"\\frac{d}{dx} f(x)g(x) =\",\n",
    "            r\"f(x) \\frac{d}{dx} g(x)\",\n",
    "            r\"+\",\n",
    "            r\"g(x) \\frac{d}{dx} f(x)\"\n",
    "        )\n",
    "        self.play(Write(product_formula))\n",
    "        box1 = SurroundingRectangle(product_formula[1], buff=0.1)\n",
    "        box2 = SurroundingRectangle(product_formula[3], buff=0.1)\n",
    "        self.play(Create(box1))\n",
    "        self.wait()\n",
    "        self.play(Transform(box1, box2))\n",
    "        self.wait()"
   ]
  },
  {
   "cell_type": "code",
   "execution_count": 12,
   "id": "aware-dispatch",
   "metadata": {},
   "outputs": [
    {
     "name": "stderr",
     "output_type": "stream",
     "text": [
      "                                                                                                                                                          \r"
     ]
    },
    {
     "data": {
      "text/html": [
       "<video src=\"media\\jupyter\\PlotExample@2023-01-18@12-15-36.mp4\" controls autoplay loop style=\"max-width: 75%;\"  >\n",
       "      Your browser does not support the <code>video</code> element.\n",
       "    </video>"
      ],
      "text/plain": [
       "<IPython.core.display.Video object>"
      ]
     },
     "metadata": {},
     "output_type": "display_data"
    }
   ],
   "source": [
    "%%manim -qm PlotExample\n",
    "\n",
    "class PlotExample(Scene):\n",
    "    def construct(self):\n",
    "        plot_axes = Axes(\n",
    "            x_range=[0, 1, 0.05],\n",
    "            y_range=[0, 1, 0.05],\n",
    "            x_length=9,\n",
    "            y_length=5.5,\n",
    "            axis_config={\n",
    "                \"numbers_to_include\": np.arange(0, 1 + 0.1, 0.1),\n",
    "                \"font_size\": 24,\n",
    "            },\n",
    "            tips=False,\n",
    "        )\n",
    "\n",
    "        y_label = plot_axes.get_y_axis_label(\"y\", edge=LEFT, direction=LEFT, buff=0.4)\n",
    "        x_label = plot_axes.get_x_axis_label(\"x\")\n",
    "        plot_labels = VGroup(x_label, y_label)\n",
    "\n",
    "        plots = VGroup()\n",
    "        for n in np.arange(1, 20 + 0.5, 0.5):\n",
    "            plots += plot_axes.plot(lambda x: x**n, color=WHITE)\n",
    "            plots += plot_axes.plot(\n",
    "                lambda x: x**(1 / n), color=WHITE, use_smoothing=False\n",
    "            )\n",
    "\n",
    "        extras = VGroup()\n",
    "        extras += plot_axes.get_horizontal_line(plot_axes.c2p(1, 1, 0), color=BLUE)\n",
    "        extras += plot_axes.get_vertical_line(plot_axes.c2p(1, 1, 0), color=BLUE)\n",
    "        extras += Dot(point=plot_axes.c2p(1, 1, 0), color=YELLOW)\n",
    "        title = Title(\n",
    "            r\"Gráficas de $y=x^{\\frac{1}{n}}$ y $y=x^n (n=1, 1.5, 2, 2.5, 3, \\dots, 20)$\",\n",
    "            include_underline=False,\n",
    "            font_size=40,\n",
    "        )\n",
    "        \n",
    "        self.play(Write(title))\n",
    "        self.play(Create(plot_axes), Create(plot_labels), Create(extras))\n",
    "        self.play(AnimationGroup(*[Create(plot) for plot in plots], lag_ratio=0.05))"
   ]
  },
  {
   "cell_type": "code",
   "execution_count": 13,
   "id": "significant-toner",
   "metadata": {},
   "outputs": [
    {
     "name": "stderr",
     "output_type": "stream",
     "text": [
      "                                                                                                         \r"
     ]
    },
    {
     "data": {
      "text/html": [
       "<video src=\"media\\jupyter\\ErdosRenyiGraph@2023-01-18@12-15-59.mp4\" controls autoplay loop style=\"max-width: 75%;\"  >\n",
       "      Your browser does not support the <code>video</code> element.\n",
       "    </video>"
      ],
      "text/plain": [
       "<IPython.core.display.Video object>"
      ]
     },
     "metadata": {},
     "output_type": "display_data"
    }
   ],
   "source": [
    "%%manim -qm ErdosRenyiGraph\n",
    "\n",
    "import networkx as nx\n",
    "\n",
    "nxgraph = nx.erdos_renyi_graph(14, 0.5)\n",
    "\n",
    "class ErdosRenyiGraph(Scene):\n",
    "    def construct(self):\n",
    "        G = Graph.from_networkx(nxgraph, layout=\"spring\", layout_scale=3.5)\n",
    "        self.play(Create(G))\n",
    "        self.play(*[G[v].animate.move_to(5*RIGHT*np.cos(ind/7 * PI) +\n",
    "                                         3*UP*np.sin(ind/7 * PI))\n",
    "                    for ind, v in enumerate(G.vertices)])\n",
    "        self.play(Uncreate(G))"
   ]
  },
  {
   "cell_type": "code",
   "execution_count": 14,
   "id": "electrical-forty",
   "metadata": {},
   "outputs": [
    {
     "name": "stderr",
     "output_type": "stream",
     "text": [
      "                                                                                          \r"
     ]
    },
    {
     "data": {
      "text/html": [
       "<video src=\"media\\jupyter\\CodeFromString@2023-01-18@12-16-41.mp4\" controls autoplay loop style=\"max-width: 75%;\"  >\n",
       "      Your browser does not support the <code>video</code> element.\n",
       "    </video>"
      ],
      "text/plain": [
       "<IPython.core.display.Video object>"
      ]
     },
     "metadata": {},
     "output_type": "display_data"
    }
   ],
   "source": [
    "%%manim -qm CodeFromString\n",
    "\n",
    "class CodeFromString(Scene):\n",
    "    def construct(self):\n",
    "        code = '''from manim import Scene, Square\n",
    "\n",
    "class FadeInSquare(Scene):\n",
    "    def construct(self):\n",
    "        s = Square()\n",
    "        self.play(FadeIn(s))\n",
    "        self.play(s.animate.scale(2))\n",
    "        self.wait()\n",
    "'''\n",
    "        rendered_code = Code(code=code, tab_width=4, background=\"window\",\n",
    "                            language=\"Python\", font=\"Monospace\")\n",
    "        self.play(Write(rendered_code))\n",
    "        self.wait(2)"
   ]
  },
  {
   "cell_type": "code",
   "execution_count": 19,
   "id": "funny-reservoir",
   "metadata": {},
   "outputs": [
    {
     "name": "stderr",
     "output_type": "stream",
     "text": [
      "                                                                                                   \r"
     ]
    },
    {
     "data": {
      "text/html": [
       "<video src=\"media\\jupyter\\OpeningManim@2023-01-18@12-23-07.mp4\" controls autoplay loop style=\"max-width: 75%;\"  >\n",
       "      Your browser does not support the <code>video</code> element.\n",
       "    </video>"
      ],
      "text/plain": [
       "<IPython.core.display.Video object>"
      ]
     },
     "metadata": {},
     "output_type": "display_data"
    }
   ],
   "source": [
    "%%manim -qm OpeningManim\n",
    "\n",
    "class OpeningManim(Scene):\n",
    "    def construct(self):\n",
    "        title = Tex(r\"Esto es algo de \\LaTeX\")\n",
    "        basel = MathTex(r\"\\sum_{n=1}^\\infty \\frac{1}{n^2} = \\frac{\\pi^2}{6}\")\n",
    "        VGroup(title, basel).arrange(DOWN)\n",
    "        self.play(\n",
    "            Write(title),\n",
    "            FadeIn(basel, shift=UP),\n",
    "        )\n",
    "        self.wait()\n",
    "\n",
    "        transform_title = Tex(\"Esto fue una transformacion\")\n",
    "        transform_title.to_corner(UP + LEFT)\n",
    "        self.play(\n",
    "            Transform(title, transform_title),\n",
    "            LaggedStart(*[FadeOut(obj, shift=DOWN) for obj in basel]),\n",
    "        )\n",
    "        self.wait()\n",
    "\n",
    "        grid = NumberPlane(x_range=(-10, 10, 1), y_range=(-6.0, 6.0, 1))\n",
    "        grid_title = Tex(\"Esta es una cuadrícula\")\n",
    "        grid_title.scale(1.5)\n",
    "        grid_title.move_to(transform_title)\n",
    "\n",
    "        self.add(grid, grid_title)\n",
    "        self.play(\n",
    "            FadeOut(title),\n",
    "            FadeIn(grid_title, shift=DOWN),\n",
    "            Create(grid, run_time=3, lag_ratio=0.1),\n",
    "        )\n",
    "        self.wait()\n",
    "\n",
    "        grid_transform_title = Tex(\n",
    "            r\"Esto fue una función no-lineal \\\\ aplicada a la cuadrícula\"\n",
    "        )\n",
    "        grid_transform_title.move_to(grid_title, UL)\n",
    "        grid.prepare_for_nonlinear_transform()\n",
    "        self.play(\n",
    "            grid.animate.apply_function(\n",
    "                lambda p: p + np.array([np.sin(p[1]), np.sin(p[0]), 0])\n",
    "            ),\n",
    "            run_time=3,\n",
    "        )\n",
    "        self.wait()\n",
    "        self.play(Transform(grid_title, grid_transform_title))\n",
    "        self.wait(3)"
   ]
  },
  {
   "cell_type": "code",
   "execution_count": null,
   "id": "enabling-greek",
   "metadata": {},
   "outputs": [],
   "source": []
  }
 ],
 "metadata": {
  "kernelspec": {
   "display_name": "Python 3",
   "language": "python",
   "name": "python3"
  },
  "language_info": {
   "codemirror_mode": {
    "name": "ipython",
    "version": 3
   },
   "file_extension": ".py",
   "mimetype": "text/x-python",
   "name": "python",
   "nbconvert_exporter": "python",
   "pygments_lexer": "ipython3",
   "version": "3.11.1 (tags/v3.11.1:a7a450f, Dec  6 2022, 19:58:39) [MSC v.1934 64 bit (AMD64)]"
  },
  "vscode": {
   "interpreter": {
    "hash": "8e5f44b020fd102db1b9de9653e8ad8d504fbb558ba4f4ae596bae1fc9a5c852"
   }
  }
 },
 "nbformat": 4,
 "nbformat_minor": 5
}
